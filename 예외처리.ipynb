{
 "cells": [
  {
   "cell_type": "code",
   "execution_count": 1,
   "metadata": {},
   "outputs": [
    {
     "ename": "ZeroDivisionError",
     "evalue": "division by zero",
     "output_type": "error",
     "traceback": [
      "\u001b[1;31m---------------------------------------------------------------------------\u001b[0m",
      "\u001b[1;31mZeroDivisionError\u001b[0m                         Traceback (most recent call last)",
      "\u001b[1;32m<ipython-input-1-bc0fdb9c1945>\u001b[0m in \u001b[0;36m<module>\u001b[1;34m\u001b[0m\n\u001b[0;32m      2\u001b[0m \u001b[0ma\u001b[0m \u001b[1;33m=\u001b[0m \u001b[1;36m4\u001b[0m\u001b[1;33m\u001b[0m\u001b[1;33m\u001b[0m\u001b[0m\n\u001b[0;32m      3\u001b[0m \u001b[0mb\u001b[0m \u001b[1;33m=\u001b[0m \u001b[1;36m0\u001b[0m\u001b[1;33m\u001b[0m\u001b[1;33m\u001b[0m\u001b[0m\n\u001b[1;32m----> 4\u001b[1;33m \u001b[0mc\u001b[0m \u001b[1;33m=\u001b[0m \u001b[0ma\u001b[0m\u001b[1;33m/\u001b[0m\u001b[0mb\u001b[0m\u001b[1;33m\u001b[0m\u001b[1;33m\u001b[0m\u001b[0m\n\u001b[0m",
      "\u001b[1;31mZeroDivisionError\u001b[0m: division by zero"
     ]
    }
   ],
   "source": [
    "# 다음 코드를 실행하면 파이썬 인터프리터가 에러를 출력합니다.\n",
    "a = 4\n",
    "b = 0\n",
    "c = a/b\n",
    "#  0으로 나눗셈을 실행했기 때문에 에러가 발생한 것임을 알 수 있습니다\n",
    "# division by zero"
   ]
  },
  {
   "cell_type": "markdown",
   "metadata": {},
   "source": [
    "- 이처럼 코드를 작성하다 보면 의도치 않게 여러 부분에서 에러가 발생하는데\n",
    "이를 처리하는 것을 예외처리라고 합니다."
   ]
  },
  {
   "cell_type": "markdown",
   "metadata": {},
   "source": [
    "- 인터넷에서 데이터를 받아오는 스크래핑을 하는 경우에는 인터넷 연결이 끊기면\n",
    "당연히 정상적으로 데이터를 스크래핑할 수 없습니다.\n",
    "- 이 경우 데이터가 없는 상태에서 데이터를 처리하는 함수를 호출하면 에러가 발생할 것입니다.\n",
    "- 네트워크가 안정적인 경우에는 이런 일이 발생하지 않지만 그렇지 않은 경우에는\n",
    "프로그램이 잘 동작하다가 종료됩니다.\n",
    "- 따라서 안정적으로 동작하는 프로그램을 만들려면 예외처리를 하는 것이 중요합니다"
   ]
  },
  {
   "cell_type": "markdown",
   "metadata": {},
   "source": [
    "- 가장 쉬운 형태의 예외 처리는 단순히 예외가 발생말만한 부분위 코드를\n",
    "try~except 구문을 통해서 처리하는 겁니다.\n",
    "- **먼저 시도(try)를 해보고 예외가 발생하면 except에서 들여 쓰기 된 코드가 실행됩니다.**\n",
    "- 물론 0으로 나누는 것은 수학적으로 불가능하기 때문에 에러가 해겨되는 것은 아니고 단지 예외를 처리해줌으로써 파이썬 인터프리터가 해당 라인에서 죽지 않고 다른 코드를 계속해서 실행될 수 있도록 해줍니다. \n",
    "- 다음 코드를 실행하면 이번에는 인터프리터가 죽지않고 7번 라인의 코드까지\n",
    "잘 실행한 것을 확인할 수 있습니다"
   ]
  },
  {
   "cell_type": "code",
   "execution_count": 3,
   "metadata": {},
   "outputs": [],
   "source": [
    "a = 4\n",
    "b = 0\n",
    "\n",
    "try:\n",
    "    c  = a/b\n",
    "except:\n",
    "    pass"
   ]
  },
  {
   "cell_type": "markdown",
   "metadata": {},
   "source": [
    "- 비트코인과 같은 암화 화폐 자동 매매 프로그램을 개발하는데 현재 가격을 얻어온 후 이를 사용해서 매매를 한다고 가정해 봅시다. \n",
    "- 잠깐 네트워크 상태가 좋지않아  현재 가격을 얻어오지 못한 경우 어떻게 해야 할까요?\n",
    "- 잠시 매매를 하지 않고 다시 가격을 가져온 다음 매매를 계속하는 것이 좋겠지요?\n",
    "- 이처럼 현재 에러가 났을 때 적절히 처리(회피)해주기 위해서 예외처리를 사용합니다."
   ]
  }
 ],
 "metadata": {
  "kernelspec": {
   "display_name": "Python 3",
   "language": "python",
   "name": "python3"
  },
  "language_info": {
   "codemirror_mode": {
    "name": "ipython",
    "version": 3
   },
   "file_extension": ".py",
   "mimetype": "text/x-python",
   "name": "python",
   "nbconvert_exporter": "python",
   "pygments_lexer": "ipython3",
   "version": "3.8.5"
  }
 },
 "nbformat": 4,
 "nbformat_minor": 4
}
